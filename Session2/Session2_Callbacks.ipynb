{
  "nbformat": 4,
  "nbformat_minor": 0,
  "metadata": {
    "colab": {
      "name": "Session2_Callbacks.ipynb",
      "provenance": []
    },
    "kernelspec": {
      "name": "python3",
      "display_name": "Python 3"
    },
    "language_info": {
      "name": "python"
    },
    "accelerator": "GPU"
  },
  "cells": [
    {
      "cell_type": "markdown",
      "source": [
        "# Data Preparation"
      ],
      "metadata": {
        "id": "srDywYdrR9-i"
      }
    },
    {
      "cell_type": "code",
      "execution_count": 1,
      "metadata": {
        "id": "7FOD7_Y0IVZt"
      },
      "outputs": [],
      "source": [
        "import tensorflow as tf\n",
        "from tensorflow.keras.layers import Conv2D, MaxPooling2D, Dropout, Dense, Flatten\n",
        "import numpy as np\n",
        "import matplotlib.pyplot as plt\n",
        "import cv2\n",
        "import random"
      ]
    },
    {
      "cell_type": "code",
      "source": [
        "(x_train, y_train), (x_test, y_test) = tf.keras.datasets.cifar10.load_data()"
      ],
      "metadata": {
        "id": "g7g7WEo4KkqV",
        "colab": {
          "base_uri": "https://localhost:8080/"
        },
        "outputId": "bb8cc85b-682f-473f-fdcb-4e3868befe24"
      },
      "execution_count": 2,
      "outputs": [
        {
          "output_type": "stream",
          "name": "stdout",
          "text": [
            "Downloading data from https://www.cs.toronto.edu/~kriz/cifar-10-python.tar.gz\n",
            "170500096/170498071 [==============================] - 2s 0us/step\n",
            "170508288/170498071 [==============================] - 2s 0us/step\n"
          ]
        }
      ]
    },
    {
      "cell_type": "code",
      "source": [
        "print(f'train set size: {x_train.shape}')\n",
        "print(f'test set size: {x_test.shape}')"
      ],
      "metadata": {
        "colab": {
          "base_uri": "https://localhost:8080/"
        },
        "id": "0sGdxr3dLlWl",
        "outputId": "8a357a92-6a2e-40ee-992d-b19da73930cc"
      },
      "execution_count": 3,
      "outputs": [
        {
          "output_type": "stream",
          "name": "stdout",
          "text": [
            "train set size: (50000, 32, 32, 3)\n",
            "test set size: (10000, 32, 32, 3)\n"
          ]
        }
      ]
    },
    {
      "cell_type": "code",
      "source": [
        "class_names = ['airplane', 'automobile', 'bird', 'cat', 'deer',\n",
        "               'dog', 'frog', 'horse', 'ship', 'truck']"
      ],
      "metadata": {
        "id": "yF8bjlwIFH7D"
      },
      "execution_count": 4,
      "outputs": []
    },
    {
      "cell_type": "code",
      "source": [
        "y_train = tf.one_hot(y_train, depth=10)"
      ],
      "metadata": {
        "id": "CfLkRteEBg08"
      },
      "execution_count": 5,
      "outputs": []
    },
    {
      "cell_type": "markdown",
      "source": [
        "### Showing an image:"
      ],
      "metadata": {
        "id": "yWtyC1aYOoK-"
      }
    },
    {
      "cell_type": "code",
      "source": [
        "plt.imshow(x_train[1])\n",
        "max_arg = tf.math.argmax(y_train[1], 1)\n",
        "plt.title(class_names[int(max_arg)])"
      ],
      "metadata": {
        "colab": {
          "base_uri": "https://localhost:8080/",
          "height": 299
        },
        "id": "mmIZRJbK8p-R",
        "outputId": "0d1946b5-7d9b-4016-e3ab-8d7fcaa49d8b"
      },
      "execution_count": 6,
      "outputs": [
        {
          "output_type": "execute_result",
          "data": {
            "text/plain": [
              "Text(0.5, 1.0, 'truck')"
            ]
          },
          "metadata": {},
          "execution_count": 6
        },
        {
          "output_type": "display_data",
          "data": {
            "text/plain": [
              "<Figure size 432x288 with 1 Axes>"
            ],
            "image/png": "[encoded data removed]"
          },
          "metadata": {
            "needs_background": "light"
          }
        }
      ]
    },
    {
      "cell_type": "code",
      "source": [
        "from tensorflow.python.ops.numpy_ops import np_config\n",
        "np_config.enable_numpy_behavior()"
      ],
      "metadata": {
        "id": "877m-K-Z_lO7"
      },
      "execution_count": 7,
      "outputs": []
    },
    {
      "cell_type": "code",
      "source": [
        "y_train.shape"
      ],
      "metadata": {
        "colab": {
          "base_uri": "https://localhost:8080/"
        },
        "id": "IZ6PV0hi_ytR",
        "outputId": "9785d18d-c4e1-42c8-dbdc-076943db880a"
      },
      "execution_count": 8,
      "outputs": [
        {
          "output_type": "execute_result",
          "data": {
            "text/plain": [
              "TensorShape([50000, 1, 10])"
            ]
          },
          "metadata": {},
          "execution_count": 8
        }
      ]
    },
    {
      "cell_type": "code",
      "source": [
        "y_train = y_train.reshape(50000, 10)"
      ],
      "metadata": {
        "id": "CGVJbatI_3Hc"
      },
      "execution_count": 9,
      "outputs": []
    },
    {
      "cell_type": "code",
      "source": [
        "y_train.shape"
      ],
      "metadata": {
        "colab": {
          "base_uri": "https://localhost:8080/"
        },
        "id": "6NoxSwfkKTaO",
        "outputId": "e11ada9f-47a6-45a7-cf25-f51734f6031e"
      },
      "execution_count": 10,
      "outputs": [
        {
          "output_type": "execute_result",
          "data": {
            "text/plain": [
              "TensorShape([50000, 10])"
            ]
          },
          "metadata": {},
          "execution_count": 10
        }
      ]
    },
    {
      "cell_type": "code",
      "source": [
        "x_train.shape"
      ],
      "metadata": {
        "colab": {
          "base_uri": "https://localhost:8080/"
        },
        "id": "g4ASovKX2LUY",
        "outputId": "b433ce3c-d7a6-4243-f843-149c25a5318c"
      },
      "execution_count": 11,
      "outputs": [
        {
          "output_type": "execute_result",
          "data": {
            "text/plain": [
              "(50000, 32, 32, 3)"
            ]
          },
          "metadata": {},
          "execution_count": 11
        }
      ]
    },
    {
      "cell_type": "markdown",
      "source": [
        "### Validation set:"
      ],
      "metadata": {
        "id": "Ylo3zRAnLq3l"
      }
    },
    {
      "cell_type": "code",
      "source": [
        "x_val = x_train[:1000]\n",
        "y_val = y_train[:1000]"
      ],
      "metadata": {
        "id": "hK9gefMDLjjC"
      },
      "execution_count": 12,
      "outputs": []
    },
    {
      "cell_type": "code",
      "source": [
        "y_train[:5]"
      ],
      "metadata": {
        "colab": {
          "base_uri": "https://localhost:8080/"
        },
        "id": "9czz5hxnLoik",
        "outputId": "e7d5a958-6517-4647-b113-55c515b84be2"
      },
      "execution_count": 13,
      "outputs": [
        {
          "output_type": "execute_result",
          "data": {
            "text/plain": [
              "<tf.Tensor: shape=(5, 10), dtype=float32, numpy=\n",
              "array([[0., 0., 0., 0., 0., 0., 1., 0., 0., 0.],\n",
              "       [0., 0., 0., 0., 0., 0., 0., 0., 0., 1.],\n",
              "       [0., 0., 0., 0., 0., 0., 0., 0., 0., 1.],\n",
              "       [0., 0., 0., 0., 1., 0., 0., 0., 0., 0.],\n",
              "       [0., 1., 0., 0., 0., 0., 0., 0., 0., 0.]], dtype=float32)>"
            ]
          },
          "metadata": {},
          "execution_count": 13
        }
      ]
    },
    {
      "cell_type": "markdown",
      "source": [
        "### Useful variables"
      ],
      "metadata": {
        "id": "QO6rTk-3RRns"
      }
    },
    {
      "cell_type": "code",
      "source": [
        "image_shape = (32,32,3)\n",
        "BATCH_SIZE = 64"
      ],
      "metadata": {
        "id": "9OqcXDb-RQPs"
      },
      "execution_count": 14,
      "outputs": []
    },
    {
      "cell_type": "markdown",
      "source": [
        "# A Simple ANN model:"
      ],
      "metadata": {
        "id": "2eZ_5lxKQfV4"
      }
    },
    {
      "cell_type": "code",
      "source": [
        "def create_ann_model():\n",
        "  model = tf.keras.Sequential([\n",
        "                               Flatten(input_shape=image_shape),\n",
        "                               Dense(400, activation='relu'),\n",
        "                               Dropout(0.1),\n",
        "                               Dense(120, activation='relu'),\n",
        "                               Dense(60, activation='relu'),\n",
        "                               Dense(10, activation='softmax')\n",
        "])\n",
        "  model.compile(optimizer='adam',\n",
        "                loss='categorical_crossentropy',\n",
        "                metrics=['accuracy'])\n",
        "  return model\n"
      ],
      "metadata": {
        "id": "24rgx_6RQdJh"
      },
      "execution_count": 15,
      "outputs": []
    },
    {
      "cell_type": "code",
      "source": [
        "model_0 = create_ann_model()\n",
        "model_0.summary()"
      ],
      "metadata": {
        "colab": {
          "base_uri": "https://localhost:8080/"
        },
        "id": "V1tYdHytTwrh",
        "outputId": "fe6275dd-9b66-4e6d-c970-c0e05c57da3a"
      },
      "execution_count": 16,
      "outputs": [
        {
          "output_type": "stream",
          "name": "stdout",
          "text": [
            "Model: \"sequential\"\n",
            "_________________________________________________________________\n",
            " Layer (type)                Output Shape              Param #   \n",
            "=================================================================\n",
            " flatten (Flatten)           (None, 3072)              0         \n",
            "                                                                 \n",
            " dense (Dense)               (None, 400)               1229200   \n",
            "                                                                 \n",
            " dropout (Dropout)           (None, 400)               0         \n",
            "                                                                 \n",
            " dense_1 (Dense)             (None, 120)               48120     \n",
            "                                                                 \n",
            " dense_2 (Dense)             (None, 60)                7260      \n",
            "                                                                 \n",
            " dense_3 (Dense)             (None, 10)                610       \n",
            "                                                                 \n",
            "=================================================================\n",
            "Total params: 1,285,190\n",
            "Trainable params: 1,285,190\n",
            "Non-trainable params: 0\n",
            "_________________________________________________________________\n"
          ]
        }
      ]
    },
    {
      "cell_type": "code",
      "source": [
        "history_0 = model_0.fit(x_train, y_train, validation_data=(x_val, y_val), batch_size=BATCH_SIZE, epochs=10)"
      ],
      "metadata": {
        "colab": {
          "base_uri": "https://localhost:8080/"
        },
        "id": "oOKzSQreTw63",
        "outputId": "ecf0fc2e-4647-4618-d12f-fb857b392e25"
      },
      "execution_count": 17,
      "outputs": [
        {
          "output_type": "stream",
          "name": "stdout",
          "text": [
            "Epoch 1/10\n",
            "782/782 [==============================] - 6s 3ms/step - loss: 12.5608 - accuracy: 0.1045 - val_loss: 2.3023 - val_accuracy: 0.1120\n",
            "Epoch 2/10\n",
            "782/782 [==============================] - 3s 4ms/step - loss: 2.3056 - accuracy: 0.0994 - val_loss: 2.3029 - val_accuracy: 0.0980\n",
            "Epoch 3/10\n",
            "782/782 [==============================] - 2s 3ms/step - loss: 2.3042 - accuracy: 0.0995 - val_loss: 2.3023 - val_accuracy: 0.1030\n",
            "Epoch 4/10\n",
            "782/782 [==============================] - 2s 3ms/step - loss: 2.3035 - accuracy: 0.0997 - val_loss: 2.3026 - val_accuracy: 0.0990\n",
            "Epoch 5/10\n",
            "782/782 [==============================] - 2s 3ms/step - loss: 2.3033 - accuracy: 0.0970 - val_loss: 2.3026 - val_accuracy: 0.0990\n",
            "Epoch 6/10\n",
            "782/782 [==============================] - 2s 3ms/step - loss: 2.3032 - accuracy: 0.0982 - val_loss: 2.3028 - val_accuracy: 0.1030\n",
            "Epoch 7/10\n",
            "782/782 [==============================] - 2s 3ms/step - loss: 2.3032 - accuracy: 0.0979 - val_loss: 2.3025 - val_accuracy: 0.0990\n",
            "Epoch 8/10\n",
            "782/782 [==============================] - 2s 3ms/step - loss: 2.3043 - accuracy: 0.0981 - val_loss: 2.3026 - val_accuracy: 0.1020\n",
            "Epoch 9/10\n",
            "782/782 [==============================] - 3s 3ms/step - loss: 2.3029 - accuracy: 0.0968 - val_loss: 2.3027 - val_accuracy: 0.1020\n",
            "Epoch 10/10\n",
            "782/782 [==============================] - 2s 3ms/step - loss: 2.3028 - accuracy: 0.0965 - val_loss: 2.3027 - val_accuracy: 0.1030\n"
          ]
        }
      ]
    },
    {
      "cell_type": "markdown",
      "source": [
        "# EarlyStopping Callback"
      ],
      "metadata": {
        "id": "98zWl9Q8Xzqh"
      }
    },
    {
      "cell_type": "code",
      "source": [
        "es_callback = tf.keras.callbacks.EarlyStopping(monitor='loss', min_delta=0.1, patience=3, mode='min')"
      ],
      "metadata": {
        "id": "cC2jODvHTxAs"
      },
      "execution_count": 18,
      "outputs": []
    },
    {
      "cell_type": "code",
      "source": [
        "history_1 = model_0.fit(x_train, y_train, validation_data=(x_val, y_val), batch_size=BATCH_SIZE, epochs=10, callbacks=[es_callback])"
      ],
      "metadata": {
        "colab": {
          "base_uri": "https://localhost:8080/"
        },
        "id": "bk-D8z4JTxFD",
        "outputId": "35d2c87e-c643-4dbd-a6eb-a16600048928"
      },
      "execution_count": 19,
      "outputs": [
        {
          "output_type": "stream",
          "name": "stdout",
          "text": [
            "Epoch 1/10\n",
            "782/782 [==============================] - 3s 3ms/step - loss: 2.3045 - accuracy: 0.0983 - val_loss: 2.3026 - val_accuracy: 0.0990\n",
            "Epoch 2/10\n",
            "782/782 [==============================] - 2s 3ms/step - loss: 2.3027 - accuracy: 0.0984 - val_loss: 2.3026 - val_accuracy: 0.0920\n",
            "Epoch 3/10\n",
            "782/782 [==============================] - 3s 3ms/step - loss: 2.3027 - accuracy: 0.0980 - val_loss: 2.3027 - val_accuracy: 0.0990\n",
            "Epoch 4/10\n",
            "782/782 [==============================] - 3s 3ms/step - loss: 2.3041 - accuracy: 0.0969 - val_loss: 2.3027 - val_accuracy: 0.0990\n"
          ]
        }
      ]
    },
    {
      "cell_type": "markdown",
      "source": [
        "# Using ConvNets"
      ],
      "metadata": {
        "id": "GNfoI7PEQDJ1"
      }
    },
    {
      "cell_type": "code",
      "source": [
        "def create_cnn_model():\n",
        "  model = tf.keras.Sequential([\n",
        "                             Conv2D(16, 3, activation='relu', input_shape=image_shape),\n",
        "                             Dropout(0.1),\n",
        "                             Conv2D(32, 3, activation='relu'),\n",
        "                             Dropout(0.2),\n",
        "                             MaxPooling2D((2,2)),\n",
        "                             Flatten(),\n",
        "                             Dense(10, activation='softmax')\n",
        "])\n",
        "  # adam = tf.keras.optimizers.Adam(learning_rate=...)   # Default value of learning rate is 0.001\n",
        "  model.compile(optimizer='adam',\n",
        "                loss='categorical_crossentropy',\n",
        "                metrics=['accuracy'])\n",
        "  return model"
      ],
      "metadata": {
        "id": "5RPVDITILtSM"
      },
      "execution_count": 20,
      "outputs": []
    },
    {
      "cell_type": "code",
      "source": [
        "# Uncomment and run following code if you don't specify input shape in the first layer of a model.\n",
        "# model.build((None, 32, 32, 3))"
      ],
      "metadata": {
        "id": "JqHV4QyXtfei"
      },
      "execution_count": 21,
      "outputs": []
    },
    {
      "cell_type": "code",
      "source": [
        "cnn_model_0 = create_cnn_model()\n",
        "cnn_model_0.summary()"
      ],
      "metadata": {
        "colab": {
          "base_uri": "https://localhost:8080/"
        },
        "id": "MVyeTUzXvVwX",
        "outputId": "2331a96b-25c4-4610-8c8a-0da3976b4678"
      },
      "execution_count": 22,
      "outputs": [
        {
          "output_type": "stream",
          "name": "stdout",
          "text": [
            "Model: \"sequential_1\"\n",
            "_________________________________________________________________\n",
            " Layer (type)                Output Shape              Param #   \n",
            "=================================================================\n",
            " conv2d (Conv2D)             (None, 30, 30, 16)        448       \n",
            "                                                                 \n",
            " dropout_1 (Dropout)         (None, 30, 30, 16)        0         \n",
            "                                                                 \n",
            " conv2d_1 (Conv2D)           (None, 28, 28, 32)        4640      \n",
            "                                                                 \n",
            " dropout_2 (Dropout)         (None, 28, 28, 32)        0         \n",
            "                                                                 \n",
            " max_pooling2d (MaxPooling2D  (None, 14, 14, 32)       0         \n",
            " )                                                               \n",
            "                                                                 \n",
            " flatten_1 (Flatten)         (None, 6272)              0         \n",
            "                                                                 \n",
            " dense_4 (Dense)             (None, 10)                62730     \n",
            "                                                                 \n",
            "=================================================================\n",
            "Total params: 67,818\n",
            "Trainable params: 67,818\n",
            "Non-trainable params: 0\n",
            "_________________________________________________________________\n"
          ]
        }
      ]
    },
    {
      "cell_type": "code",
      "source": [
        "history_2 = cnn_model_0.fit(x_train, y_train, validation_data=(x_val, y_val), batch_size=64, epochs=10)"
      ],
      "metadata": {
        "id": "aJRGoTxWvkyK",
        "colab": {
          "base_uri": "https://localhost:8080/"
        },
        "outputId": "425854fb-2279-4c23-ded1-6161020ef6ab"
      },
      "execution_count": 23,
      "outputs": [
        {
          "output_type": "stream",
          "name": "stdout",
          "text": [
            "Epoch 1/10\n",
            "782/782 [==============================] - 13s 5ms/step - loss: 4.5456 - accuracy: 0.3728 - val_loss: 1.4238 - val_accuracy: 0.5100\n",
            "Epoch 2/10\n",
            "782/782 [==============================] - 4s 5ms/step - loss: 1.3638 - accuracy: 0.5244 - val_loss: 1.2002 - val_accuracy: 0.6030\n",
            "Epoch 3/10\n",
            "782/782 [==============================] - 4s 5ms/step - loss: 1.2418 - accuracy: 0.5658 - val_loss: 1.1062 - val_accuracy: 0.6280\n",
            "Epoch 4/10\n",
            "782/782 [==============================] - 4s 5ms/step - loss: 1.1753 - accuracy: 0.5893 - val_loss: 1.0548 - val_accuracy: 0.6320\n",
            "Epoch 5/10\n",
            "782/782 [==============================] - 4s 5ms/step - loss: 1.1308 - accuracy: 0.6066 - val_loss: 1.0730 - val_accuracy: 0.6310\n",
            "Epoch 6/10\n",
            "782/782 [==============================] - 4s 5ms/step - loss: 1.1024 - accuracy: 0.6180 - val_loss: 0.9971 - val_accuracy: 0.6530\n",
            "Epoch 7/10\n",
            "782/782 [==============================] - 4s 5ms/step - loss: 1.0684 - accuracy: 0.6270 - val_loss: 0.9885 - val_accuracy: 0.6870\n",
            "Epoch 8/10\n",
            "782/782 [==============================] - 4s 5ms/step - loss: 1.0525 - accuracy: 0.6314 - val_loss: 0.9960 - val_accuracy: 0.6490\n",
            "Epoch 9/10\n",
            "782/782 [==============================] - 4s 5ms/step - loss: 1.0250 - accuracy: 0.6431 - val_loss: 0.9110 - val_accuracy: 0.6860\n",
            "Epoch 10/10\n",
            "782/782 [==============================] - 4s 5ms/step - loss: 1.0072 - accuracy: 0.6472 - val_loss: 0.8800 - val_accuracy: 0.6970\n"
          ]
        }
      ]
    },
    {
      "cell_type": "markdown",
      "source": [
        "## LearningRateScheduler:"
      ],
      "metadata": {
        "id": "EsSeursIbR_h"
      }
    },
    {
      "cell_type": "code",
      "source": [
        "def scheduler(epoch, lr):\n",
        "   if epoch < 2:\n",
        "     return lr\n",
        "   elif epoch < 5:\n",
        "     return lr * tf.math.exp(0.1)\n",
        "   else: \n",
        "     return lr * 0.3"
      ],
      "metadata": {
        "id": "BlET8A7Svou7"
      },
      "execution_count": 24,
      "outputs": []
    },
    {
      "cell_type": "code",
      "source": [
        "lr_callback_1 = tf.keras.callbacks.LearningRateScheduler(scheduler)"
      ],
      "metadata": {
        "id": "TXz-qLc-dkm3"
      },
      "execution_count": 25,
      "outputs": []
    },
    {
      "cell_type": "code",
      "source": [
        "history_3 = cnn_model_0.fit(x_train, y_train, validation_data=(x_val, y_val), batch_size=BATCH_SIZE, epochs=10, callbacks=[lr_callback_1])"
      ],
      "metadata": {
        "colab": {
          "base_uri": "https://localhost:8080/"
        },
        "id": "wP3TDMQTdl2F",
        "outputId": "b11fe9db-7ef0-479b-bde8-58276e5b42a8"
      },
      "execution_count": 26,
      "outputs": [
        {
          "output_type": "stream",
          "name": "stdout",
          "text": [
            "Epoch 1/10\n",
            "782/782 [==============================] - 4s 5ms/step - loss: 0.9832 - accuracy: 0.6605 - val_loss: 0.8471 - val_accuracy: 0.7060 - lr: 0.0010\n",
            "Epoch 2/10\n",
            "782/782 [==============================] - 4s 5ms/step - loss: 0.9695 - accuracy: 0.6622 - val_loss: 0.8231 - val_accuracy: 0.7230 - lr: 0.0010\n",
            "Epoch 3/10\n",
            "782/782 [==============================] - 4s 5ms/step - loss: 0.9773 - accuracy: 0.6583 - val_loss: 0.8475 - val_accuracy: 0.7090 - lr: 0.0011\n",
            "Epoch 4/10\n",
            "782/782 [==============================] - 4s 5ms/step - loss: 0.9874 - accuracy: 0.6540 - val_loss: 0.8483 - val_accuracy: 0.7070 - lr: 0.0012\n",
            "Epoch 5/10\n",
            "782/782 [==============================] - 4s 5ms/step - loss: 1.0280 - accuracy: 0.6419 - val_loss: 1.5227 - val_accuracy: 0.4720 - lr: 0.0013\n",
            "Epoch 6/10\n",
            "782/782 [==============================] - 4s 5ms/step - loss: 0.8438 - accuracy: 0.7020 - val_loss: 0.6740 - val_accuracy: 0.7600 - lr: 4.0496e-04\n",
            "Epoch 7/10\n",
            "782/782 [==============================] - 4s 5ms/step - loss: 0.7303 - accuracy: 0.7445 - val_loss: 0.6207 - val_accuracy: 0.7930 - lr: 1.2149e-04\n",
            "Epoch 8/10\n",
            "782/782 [==============================] - 4s 5ms/step - loss: 0.7038 - accuracy: 0.7522 - val_loss: 0.6080 - val_accuracy: 0.8090 - lr: 3.6446e-05\n",
            "Epoch 9/10\n",
            "782/782 [==============================] - 4s 5ms/step - loss: 0.6883 - accuracy: 0.7594 - val_loss: 0.6018 - val_accuracy: 0.8040 - lr: 1.0934e-05\n",
            "Epoch 10/10\n",
            "782/782 [==============================] - 4s 5ms/step - loss: 0.6845 - accuracy: 0.7605 - val_loss: 0.5986 - val_accuracy: 0.8040 - lr: 3.2802e-06\n"
          ]
        }
      ]
    },
    {
      "cell_type": "markdown",
      "source": [
        "# Making the model more robust:"
      ],
      "metadata": {
        "id": "rhayiTkI3BPU"
      }
    },
    {
      "cell_type": "code",
      "source": [
        "sample = x_train[0]\n",
        "print(f' sample data type: {sample.dtype}')\n",
        "print(f' Min value of sample: {sample.min()}, Max value of sample: {sample.max()}')"
      ],
      "metadata": {
        "colab": {
          "base_uri": "https://localhost:8080/"
        },
        "id": "65SxSOqi3ReA",
        "outputId": "0617d441-6ce2-4509-b310-703aa74dee56"
      },
      "execution_count": 27,
      "outputs": [
        {
          "output_type": "stream",
          "name": "stdout",
          "text": [
            " sample data type: uint8\n",
            " Min value of sample: 0, Max value of sample: 255\n"
          ]
        }
      ]
    },
    {
      "cell_type": "markdown",
      "source": [
        "## Normalization"
      ],
      "metadata": {
        "id": "GXJCFmY74Qnx"
      }
    },
    {
      "cell_type": "code",
      "source": [
        "x_train_norm , x_test_norm = x_train / 255, x_test / 255\n",
        "x_val_norm = x_val / 255"
      ],
      "metadata": {
        "id": "LAlqixO03Ab9"
      },
      "execution_count": 28,
      "outputs": []
    },
    {
      "cell_type": "code",
      "source": [
        "new_sample = x_train_norm[0]\n",
        "print(f' new_sample data type: {new_sample.dtype}')\n",
        "print(f' Min value of new_sample: {new_sample.min()}, Max value of new_sample: {new_sample.max()}')"
      ],
      "metadata": {
        "colab": {
          "base_uri": "https://localhost:8080/"
        },
        "id": "JCBDAaOf4p6v",
        "outputId": "8b714c2d-1882-47a8-b258-0ebe614d2e6c"
      },
      "execution_count": 29,
      "outputs": [
        {
          "output_type": "stream",
          "name": "stdout",
          "text": [
            " new_sample data type: float64\n",
            " Min value of new_sample: 0.0, Max value of new_sample: 1.0\n"
          ]
        }
      ]
    },
    {
      "cell_type": "code",
      "source": [
        "def create_bcnn_model():\n",
        "  model = tf.keras.Sequential([\n",
        "                              Conv2D(32, 3, activation='relu', input_shape=image_shape),\n",
        "                              Conv2D(64, 3, activation='relu'),\n",
        "                              Conv2D(64, 3, activation='relu'),\n",
        "                              Flatten(),\n",
        "                              Dense(60, activation='relu'),\n",
        "                              Dense(10, activation='softmax')\n",
        "])\n",
        "  model.compile(optimizer='adam',\n",
        "                loss='categorical_crossentropy',\n",
        "                metrics=['accuracy'])\n",
        "  return model"
      ],
      "metadata": {
        "id": "OV7_QKgeilrM"
      },
      "execution_count": 30,
      "outputs": []
    },
    {
      "cell_type": "code",
      "source": [
        "cnn_model_1 = create_bcnn_model()\n",
        "cnn_model_1.summary()"
      ],
      "metadata": {
        "colab": {
          "base_uri": "https://localhost:8080/"
        },
        "id": "I3a9kazlXFan",
        "outputId": "a9e77eba-5963-4d95-911b-e97340f8223b"
      },
      "execution_count": 31,
      "outputs": [
        {
          "output_type": "stream",
          "name": "stdout",
          "text": [
            "Model: \"sequential_2\"\n",
            "_________________________________________________________________\n",
            " Layer (type)                Output Shape              Param #   \n",
            "=================================================================\n",
            " conv2d_2 (Conv2D)           (None, 30, 30, 32)        896       \n",
            "                                                                 \n",
            " conv2d_3 (Conv2D)           (None, 28, 28, 64)        18496     \n",
            "                                                                 \n",
            " conv2d_4 (Conv2D)           (None, 26, 26, 64)        36928     \n",
            "                                                                 \n",
            " flatten_2 (Flatten)         (None, 43264)             0         \n",
            "                                                                 \n",
            " dense_5 (Dense)             (None, 60)                2595900   \n",
            "                                                                 \n",
            " dense_6 (Dense)             (None, 10)                610       \n",
            "                                                                 \n",
            "=================================================================\n",
            "Total params: 2,652,830\n",
            "Trainable params: 2,652,830\n",
            "Non-trainable params: 0\n",
            "_________________________________________________________________\n"
          ]
        }
      ]
    },
    {
      "cell_type": "code",
      "source": [
        "history_4 = cnn_model_1.fit(x_train_norm, y_train, validation_data=(x_val_norm, y_val), batch_size=BATCH_SIZE, epochs=10)"
      ],
      "metadata": {
        "colab": {
          "base_uri": "https://localhost:8080/"
        },
        "id": "692w99lqX3gw",
        "outputId": "2f14c22e-a165-480a-c939-ac446ad2eecc"
      },
      "execution_count": 32,
      "outputs": [
        {
          "output_type": "stream",
          "name": "stdout",
          "text": [
            "Epoch 1/10\n",
            "782/782 [==============================] - 8s 10ms/step - loss: 1.5591 - accuracy: 0.4348 - val_loss: 1.1173 - val_accuracy: 0.5970\n",
            "Epoch 2/10\n",
            "782/782 [==============================] - 7s 9ms/step - loss: 1.0413 - accuracy: 0.6370 - val_loss: 0.8976 - val_accuracy: 0.6870\n",
            "Epoch 3/10\n",
            "782/782 [==============================] - 7s 9ms/step - loss: 0.8529 - accuracy: 0.7043 - val_loss: 0.6498 - val_accuracy: 0.7830\n",
            "Epoch 4/10\n",
            "782/782 [==============================] - 7s 9ms/step - loss: 0.7102 - accuracy: 0.7543 - val_loss: 0.5187 - val_accuracy: 0.8240\n",
            "Epoch 5/10\n",
            "782/782 [==============================] - 7s 9ms/step - loss: 0.5536 - accuracy: 0.8093 - val_loss: 0.3762 - val_accuracy: 0.8830\n",
            "Epoch 6/10\n",
            "782/782 [==============================] - 7s 10ms/step - loss: 0.4070 - accuracy: 0.8591 - val_loss: 0.2497 - val_accuracy: 0.9260\n",
            "Epoch 7/10\n",
            "782/782 [==============================] - 7s 9ms/step - loss: 0.2720 - accuracy: 0.9086 - val_loss: 0.2001 - val_accuracy: 0.9380\n",
            "Epoch 8/10\n",
            "782/782 [==============================] - 7s 10ms/step - loss: 0.1879 - accuracy: 0.9372 - val_loss: 0.1429 - val_accuracy: 0.9550\n",
            "Epoch 9/10\n",
            "782/782 [==============================] - 8s 10ms/step - loss: 0.1303 - accuracy: 0.9544 - val_loss: 0.1266 - val_accuracy: 0.9550\n",
            "Epoch 10/10\n",
            "782/782 [==============================] - 7s 10ms/step - loss: 0.1021 - accuracy: 0.9644 - val_loss: 0.0482 - val_accuracy: 0.9830\n"
          ]
        }
      ]
    },
    {
      "cell_type": "code",
      "source": [
        "lr_callback_2 = tf.keras.callbacks.LearningRateScheduler(scheduler)"
      ],
      "metadata": {
        "id": "5nehaiRM1jlK"
      },
      "execution_count": 33,
      "outputs": []
    },
    {
      "cell_type": "code",
      "source": [
        "cnn_model_2 = create_bcnn_model()\n",
        "history_5 = cnn_model_2.fit(x_train_norm, y_train, validation_data=(x_val_norm, y_val), batch_size=BATCH_SIZE, epochs=10, callbacks=[lr_callback_2])"
      ],
      "metadata": {
        "colab": {
          "base_uri": "https://localhost:8080/"
        },
        "id": "iaNaO0gacO61",
        "outputId": "01bb3458-53ae-45b4-d856-48f4dfc685b0"
      },
      "execution_count": 35,
      "outputs": [
        {
          "output_type": "stream",
          "name": "stdout",
          "text": [
            "Epoch 1/10\n",
            "782/782 [==============================] - 11s 13ms/step - loss: 1.4272 - accuracy: 0.4872 - val_loss: 1.0637 - val_accuracy: 0.6080 - lr: 0.0010\n",
            "Epoch 2/10\n",
            "782/782 [==============================] - 7s 9ms/step - loss: 1.0051 - accuracy: 0.6467 - val_loss: 0.8499 - val_accuracy: 0.6900 - lr: 0.0010\n",
            "Epoch 3/10\n",
            "782/782 [==============================] - 7s 9ms/step - loss: 0.8478 - accuracy: 0.7032 - val_loss: 0.6880 - val_accuracy: 0.7710 - lr: 0.0011\n",
            "Epoch 4/10\n",
            "782/782 [==============================] - 7s 9ms/step - loss: 0.7151 - accuracy: 0.7508 - val_loss: 0.5155 - val_accuracy: 0.8350 - lr: 0.0012\n",
            "Epoch 5/10\n",
            "782/782 [==============================] - 7s 9ms/step - loss: 0.5862 - accuracy: 0.7953 - val_loss: 0.3991 - val_accuracy: 0.8720 - lr: 0.0013\n",
            "Epoch 6/10\n",
            "782/782 [==============================] - 7s 9ms/step - loss: 0.3051 - accuracy: 0.8985 - val_loss: 0.1847 - val_accuracy: 0.9450 - lr: 4.0496e-04\n",
            "Epoch 7/10\n",
            "782/782 [==============================] - 7s 9ms/step - loss: 0.1865 - accuracy: 0.9439 - val_loss: 0.1400 - val_accuracy: 0.9630 - lr: 1.2149e-04\n",
            "Epoch 8/10\n",
            "782/782 [==============================] - 7s 9ms/step - loss: 0.1513 - accuracy: 0.9576 - val_loss: 0.1246 - val_accuracy: 0.9710 - lr: 3.6446e-05\n",
            "Epoch 9/10\n",
            "782/782 [==============================] - 7s 9ms/step - loss: 0.1401 - accuracy: 0.9612 - val_loss: 0.1198 - val_accuracy: 0.9720 - lr: 1.0934e-05\n",
            "Epoch 10/10\n",
            "782/782 [==============================] - 7s 9ms/step - loss: 0.1365 - accuracy: 0.9625 - val_loss: 0.1193 - val_accuracy: 0.9720 - lr: 3.2802e-06\n"
          ]
        }
      ]
    }
  ]
}